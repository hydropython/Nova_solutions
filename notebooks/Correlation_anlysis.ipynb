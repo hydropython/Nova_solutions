{
 "cells": [
  {
   "cell_type": "code",
   "execution_count": 52,
   "metadata": {},
   "outputs": [],
   "source": [
    "import pandas as pd\n",
    "from textblob import TextBlob\n",
    "\n",
    "# Load datasets\n",
    "news_df = pd.read_csv('../Data/raw_analyst_ratings.csv')\n",
    "stock_df = pd.read_csv('../Data/AMZN_historical_data.csv')\n",
    "\n",
    "# Convert date columns to datetime format, handle errors\n",
    "news_df['date'] = pd.to_datetime(news_df['date'], errors='coerce', format='%Y-%m-%d %H:%M:%S')\n",
    "stock_df['Date'] = pd.to_datetime(stock_df['Date'], errors='coerce', format='%Y-%m-%d')\n",
    "\n",
    "# Drop rows with NaT in the Date column\n",
    "stock_df = stock_df.dropna(subset=['Date'])\n",
    "\n",
    "# Convert Date column to the same format as news_df\n",
    "stock_df['date'] = stock_df['Date'].dt.date\n",
    "news_df['date'] = news_df['date'].dt.date\n",
    "\n",
    "# Define new date range\n",
    "start_date = pd.to_datetime('2011-01-01').date()\n",
    "end_date = pd.to_datetime('2020-01-01').date()\n",
    "\n",
    "# Filter datasets to the specified date range\n",
    "news_df = news_df[(news_df['date'] >= start_date) & (news_df['date'] <= end_date)]\n",
    "stock_df = stock_df[(stock_df['date'] >= start_date) & (stock_df['date'] <= end_date)]\n"
   ]
  },
  {
   "cell_type": "code",
   "execution_count": 53,
   "metadata": {},
   "outputs": [
    {
     "name": "stdout",
     "output_type": "stream",
     "text": [
      "Merged DataFrame:\n",
      "         date  daily_return   Close  sentiment\n",
      "0  2011-01-03           NaN  9.2110   0.023555\n",
      "1  2011-01-04      0.004288  9.2505   0.026955\n",
      "2  2011-01-05      0.013026  9.3710   0.032222\n",
      "3  2011-01-06     -0.008324  9.2930   0.025913\n",
      "4  2011-01-07     -0.001991  9.2745   0.042296\n",
      "<class 'pandas.core.frame.DataFrame'>\n",
      "RangeIndex: 2264 entries, 0 to 2263\n",
      "Data columns (total 4 columns):\n",
      " #   Column        Non-Null Count  Dtype  \n",
      "---  ------        --------------  -----  \n",
      " 0   date          2264 non-null   object \n",
      " 1   daily_return  2263 non-null   float64\n",
      " 2   Close         2264 non-null   float64\n",
      " 3   sentiment     2264 non-null   float64\n",
      "dtypes: float64(3), object(1)\n",
      "memory usage: 70.9+ KB\n",
      "None\n"
     ]
    }
   ],
   "source": [
    "# Calculate daily returns for stock data\n",
    "stock_df['daily_return'] = stock_df['Close'].pct_change()\n",
    "\n",
    "# Aggregate sentiment scores by date\n",
    "news_df['sentiment'] = news_df['headline'].apply(lambda text: TextBlob(text).sentiment.polarity)\n",
    "news_daily_sentiment = news_df.groupby('date')['sentiment'].mean().reset_index()\n",
    "\n",
    "# Merge datasets by date including the 'Close' column\n",
    "merged_df = pd.merge(stock_df[['date', 'daily_return', 'Close']], news_daily_sentiment, on='date', how='inner')\n",
    "\n",
    "# Display the results\n",
    "print(\"Merged DataFrame:\")\n",
    "print(merged_df.head())\n",
    "print(merged_df.info())\n"
   ]
  },
  {
   "cell_type": "code",
   "execution_count": 54,
   "metadata": {},
   "outputs": [
    {
     "name": "stdout",
     "output_type": "stream",
     "text": [
      "Overall correlation between stock returns and sentiment: 0.04\n",
      "Overall correlation between Close price and sentiment: -0.14\n"
     ]
    }
   ],
   "source": [
    "\n",
    "# Perform correlation analysis\n",
    "if not merged_df.empty:\n",
    "    # Calculate overall correlation between daily return and sentiment\n",
    "    overall_return_sentiment_corr = merged_df[['daily_return', 'sentiment']].corr().iloc[0, 1]\n",
    "    print(f'Overall correlation between stock returns and sentiment: {overall_return_sentiment_corr:.2f}')\n",
    "    \n",
    "    # Calculate correlation between Close price and sentiment\n",
    "    overall_close_sentiment_corr = merged_df[['Close', 'sentiment']].corr().iloc[0, 1]\n",
    "    print(f'Overall correlation between Close price and sentiment: {overall_close_sentiment_corr:.2f}')\n",
    "else:\n",
    "    print(\"Merged DataFrame is empty. No correlation to compute.\")"
   ]
  }
 ],
 "metadata": {
  "kernelspec": {
   "display_name": ".venv",
   "language": "python",
   "name": "python3"
  },
  "language_info": {
   "codemirror_mode": {
    "name": "ipython",
    "version": 3
   },
   "file_extension": ".py",
   "mimetype": "text/x-python",
   "name": "python",
   "nbconvert_exporter": "python",
   "pygments_lexer": "ipython3",
   "version": "3.12.3"
  }
 },
 "nbformat": 4,
 "nbformat_minor": 2
}
